{
 "cells": [
  {
   "cell_type": "markdown",
   "metadata": {
    "id": "G4T6QHHOnfcQ"
   },
   "source": [
    "# Part 1: Build CpG Detector\n",
    "\n",
    "Here we have a simple problem, given a DNA sequence (of N, A, C, G, T), count the number of CpGs in the sequence (consecutive CGs).\n",
    "\n",
    "We have defined a few helper functions / parameters for performing this task.\n",
    "\n",
    "We need you to build a LSTM model and train it to complish this task in PyTorch.\n",
    "\n",
    "A good solution will be a model that can be trained, with high confidence in correctness."
   ]
  },
  {
   "cell_type": "code",
   "execution_count": 1,
   "metadata": {
    "id": "mfS4cLmZD2oB"
   },
   "outputs": [],
   "source": [
    "from typing import Sequence\n",
    "from functools import partial\n",
    "import random\n",
    "import torch\n",
    "import numpy as np\n",
    "import random"
   ]
  },
  {
   "cell_type": "code",
   "execution_count": 2,
   "metadata": {
    "id": "_f-brPAvKvTn"
   },
   "outputs": [],
   "source": [
    "# DO NOT CHANGE HERE\n",
    "def set_seed(seed=13):\n",
    "    random.seed(seed)\n",
    "    np.random.seed(seed)\n",
    "    torch.manual_seed(seed)\n",
    "    if torch.cuda.is_available():\n",
    "        torch.cuda.manual_seed_all(seed)\n",
    "\n",
    "set_seed(13)\n",
    "\n",
    "# Use this for getting x label\n",
    "def rand_sequence(n_seqs: int, seq_len: int=128) -> Sequence[int]:\n",
    "    for i in range(n_seqs):\n",
    "        yield [random.randint(0, 4) for _ in range(seq_len)]\n",
    "\n",
    "# Use this for getting y label\n",
    "def count_cpgs(seq: str) -> int:\n",
    "    cgs = 0\n",
    "    for i in range(0, len(seq) - 1):\n",
    "        dimer = seq[i:i+2]\n",
    "        # note that seq is a string, not a list\n",
    "        if dimer == \"CG\":\n",
    "            cgs += 1\n",
    "    return cgs\n",
    "\n",
    "# Alphabet helpers   \n",
    "alphabet = 'NACGT'\n",
    "dna2int = { a: i for a, i in zip(alphabet, range(5))}\n",
    "int2dna = { i: a for a, i in zip(alphabet, range(5))}\n",
    "\n",
    "intseq_to_dnaseq = partial(map, int2dna.get)\n",
    "dnaseq_to_intseq = partial(map, dna2int.get)"
   ]
  },
  {
   "cell_type": "code",
   "execution_count": 3,
   "metadata": {},
   "outputs": [],
   "source": [
    "#equivalent of tensorflow categorical in torch\n",
    "def to_categorical(y, num_classes):\n",
    "    \"\"\" 1-hot encodes a tensor \"\"\"\n",
    "    return np.eye(num_classes, dtype='uint8')[y]"
   ]
  },
  {
   "cell_type": "code",
   "execution_count": 4,
   "metadata": {
    "colab": {
     "base_uri": "https://localhost:8080/"
    },
    "executionInfo": {
     "elapsed": 383,
     "status": "ok",
     "timestamp": 1651686469847,
     "user": {
      "displayName": "Ylex",
      "userId": "01820639168093643789"
     },
     "user_tz": 240
    },
    "id": "VK9Qg5GHYxOb",
    "outputId": "0a00bbb6-d9ac-4cf8-ed84-b55b335d7f51"
   },
   "outputs": [
    {
     "name": "stderr",
     "output_type": "stream",
     "text": [
      "C:\\Users\\susinghrawat\\AppData\\Local\\Temp\\ipykernel_36448\\1219703697.py:23: UserWarning: Creating a tensor from a list of numpy.ndarrays is extremely slow. Please consider converting the list to a single numpy.ndarray with numpy.array() before converting to a tensor. (Triggered internally at C:\\actions-runner\\_work\\pytorch\\pytorch\\builder\\windows\\pytorch\\torch\\csrc\\utils\\tensor_new.cpp:264.)\n",
      "  X_dna_seqs_train = torch.tensor(onehot_encodings, dtype=torch.float)\n"
     ]
    }
   ],
   "source": [
    "# we prepared two datasets for training and evaluation\n",
    "# training data scale we set to 2048\n",
    "# we test on 512\n",
    "\n",
    "def prepare_data(num_samples=100):\n",
    "    # prepared the training and test data\n",
    "    # you need to call rand_sequence and count_cpgs here to create the dataset\n",
    "    # step 1\n",
    "    X_dna_seqs_train = list(rand_sequence(num_samples))\n",
    "    \"\"\"\n",
    "    hint:\n",
    "        1. You can check X_dna_seqs_train by print, the data is ids which is your training X \n",
    "        2. You first convert ids back to DNA sequence\n",
    "        3. Then you run count_cpgs which will yield CGs counts - this will be the labels (Y)\n",
    "    \"\"\"\n",
    "    #step2\n",
    "    temp = [\"\".join(intseq_to_dnaseq(x)) for x in X_dna_seqs_train] # use intseq_to_dnaseq here to convert ids back to DNA seqs\n",
    "    #step3\n",
    "    y_dna_seqs = [count_cpgs(x) for x in temp] # use count_cpgs here to generate labels with temp generated in step2\n",
    "    #step4 \n",
    "    onehot_encodings = [to_categorical(x,num_classes=5) for x in X_dna_seqs_train] #create onehot encodings\n",
    "    #step5\n",
    "    X_dna_seqs_train = torch.tensor(onehot_encodings, dtype=torch.float)\n",
    "    y_dna_seqs = torch.tensor(y_dna_seqs, dtype=torch.float)\n",
    "    \n",
    "    return X_dna_seqs_train, y_dna_seqs\n",
    "    \n",
    "train_x, train_y = prepare_data(2048)\n",
    "test_x, test_y = prepare_data(512)"
   ]
  },
  {
   "cell_type": "code",
   "execution_count": 5,
   "metadata": {},
   "outputs": [
    {
     "name": "stdout",
     "output_type": "stream",
     "text": [
      "torch.Size([2048, 128, 5])\n",
      "torch.Size([2048])\n"
     ]
    }
   ],
   "source": [
    "print(train_x.shape)\n",
    "print(train_y.shape)"
   ]
  },
  {
   "cell_type": "code",
   "execution_count": 6,
   "metadata": {},
   "outputs": [],
   "source": [
    "# some config\n",
    "LSTM_HIDDEN = 128\n",
    "LSTM_LAYER = 1\n",
    "batch_size = 32\n",
    "learning_rate = 0.001\n",
    "epoch_num = 300"
   ]
  },
  {
   "cell_type": "code",
   "execution_count": 7,
   "metadata": {},
   "outputs": [],
   "source": [
    "from torch.utils.data import TensorDataset, DataLoader\n",
    "# create data loader\n",
    "train_data_loader = DataLoader(TensorDataset(train_x, train_y), batch_size=batch_size, shuffle=True)\n",
    "test_data_loader = DataLoader(TensorDataset(test_x, test_y), batch_size=batch_size, shuffle=False)"
   ]
  },
  {
   "cell_type": "code",
   "execution_count": 8,
   "metadata": {
    "id": "q8fgxrM0LnLy"
   },
   "outputs": [],
   "source": [
    "# Model\n",
    "class CpGPredictor(torch.nn.Module):\n",
    "    ''' Simple model that uses a LSTM to count the number of CpGs in a sequence '''\n",
    "    def __init__(self):\n",
    "        super(CpGPredictor, self).__init__()\n",
    "        # TODO complete model, you are free to add whatever layers you need here\n",
    "        # We do need a lstm and a classifier layer here but you are free to implement them in your way\n",
    "        self.lstm = torch.nn.LSTM(5, LSTM_HIDDEN, LSTM_LAYER, batch_first=True)\n",
    "        self.classifier = torch.nn.Linear(LSTM_HIDDEN, 1)\n",
    "\n",
    "    def forward(self, x):\n",
    "        # TODO complete forward function\n",
    "        output, _ = self.lstm(x)\n",
    "        output = output[:, -1, :] #choosing last timestep from each batch\n",
    "        logits = self.classifier(output)\n",
    "        return logits"
   ]
  },
  {
   "cell_type": "code",
   "execution_count": 9,
   "metadata": {},
   "outputs": [],
   "source": [
    "# init model / loss function / optimizer etc.\n",
    "model = CpGPredictor()\n",
    "loss_fn = torch.nn.MSELoss()\n",
    "optimizer = torch.optim.Adam(model.parameters(), lr=learning_rate)"
   ]
  },
  {
   "cell_type": "code",
   "execution_count": 10,
   "metadata": {
    "scrolled": false
   },
   "outputs": [
    {
     "name": "stdout",
     "output_type": "stream",
     "text": [
      "Epoch: 0 Training Loss: 584.6737458705902 Validation Loss: 4.6878204345703125\n",
      "Epoch: 10 Training Loss: 268.827424287796 Validation Loss: 3.4096262454986572\n",
      "Epoch: 20 Training Loss: 268.4294295310974 Validation Loss: 5.276222229003906\n",
      "Epoch: 30 Training Loss: 267.291357755661 Validation Loss: 4.4912848472595215\n",
      "Epoch: 40 Training Loss: 268.7998846769333 Validation Loss: 3.919861316680908\n",
      "Epoch: 50 Training Loss: 264.7804329395294 Validation Loss: 3.9704513549804688\n",
      "Epoch: 60 Training Loss: 261.8662860393524 Validation Loss: 3.3661792278289795\n",
      "Epoch: 70 Training Loss: 257.030246257782 Validation Loss: 4.0688066482543945\n",
      "Epoch: 80 Training Loss: 179.45953905582428 Validation Loss: 2.4652342796325684\n",
      "Epoch: 90 Training Loss: 8.03344694711268 Validation Loss: 0.1407589614391327\n",
      "Epoch: 100 Training Loss: 2.942875064909458 Validation Loss: 0.016522293910384178\n",
      "Epoch: 110 Training Loss: 2.528950863517821 Validation Loss: 0.016766704618930817\n",
      "Epoch: 120 Training Loss: 1.0915017542429268 Validation Loss: 0.016173839569091797\n",
      "Epoch: 130 Training Loss: 1.3928197119385004 Validation Loss: 0.018442494794726372\n",
      "Epoch: 140 Training Loss: 0.5464255618862808 Validation Loss: 0.00566824059933424\n",
      "Epoch: 150 Training Loss: 0.6287452164106071 Validation Loss: 0.006179420277476311\n",
      "Epoch: 160 Training Loss: 0.5546548068523407 Validation Loss: 0.006108874920755625\n",
      "Epoch: 170 Training Loss: 0.5387610115576535 Validation Loss: 0.0023076897487044334\n",
      "Epoch: 180 Training Loss: 1.4269087994471192 Validation Loss: 0.006598638836294413\n",
      "Epoch: 190 Training Loss: 0.7080204020021483 Validation Loss: 0.008345345966517925\n",
      "Epoch: 200 Training Loss: 1.038583398098126 Validation Loss: 0.005632874555885792\n",
      "Epoch: 210 Training Loss: 0.7060626887250692 Validation Loss: 0.002560802735388279\n",
      "Epoch: 220 Training Loss: 0.4276681466726586 Validation Loss: 0.011501643806695938\n",
      "Epoch: 230 Training Loss: 0.21298709028633311 Validation Loss: 0.0021251558791846037\n",
      "Epoch: 240 Training Loss: 0.7817825410747901 Validation Loss: 0.00692035723477602\n",
      "Epoch: 250 Training Loss: 0.3093506458681077 Validation Loss: 0.0024723908863961697\n",
      "Epoch: 260 Training Loss: 0.34639225131832063 Validation Loss: 0.004044973291456699\n",
      "Epoch: 270 Training Loss: 0.8026422376278788 Validation Loss: 0.0046410709619522095\n",
      "Epoch: 280 Training Loss: 0.18660138285486028 Validation Loss: 0.005237833596765995\n",
      "Epoch: 290 Training Loss: 0.13167079183040187 Validation Loss: 0.0022988393902778625\n"
     ]
    }
   ],
   "source": [
    "# training (you can modify the code below)\n",
    "t_loss = 0\n",
    "val_loss = 0\n",
    "training_loss = []\n",
    "validation_loss = []\n",
    "\n",
    "model.train()\n",
    "model.zero_grad()\n",
    "for i in range(epoch_num):\n",
    "    for batch in train_data_loader:\n",
    "        inp, target = batch\n",
    "        out = model(inp)\n",
    "        out = out.squeeze()\n",
    "        optimizer.zero_grad()\n",
    "        loss = loss_fn(out, target)\n",
    "        loss.backward()\n",
    "        optimizer.step()\n",
    "        t_loss += loss.item() \n",
    "    \n",
    "    if i%10==0:\n",
    "        #compute validation error\n",
    "        model.eval()\n",
    "        with torch.no_grad():\n",
    "            out = model(inp)\n",
    "            out = out.squeeze()\n",
    "            loss = loss_fn(out, target)\n",
    "            val_loss+=loss.item()\n",
    "\n",
    "        training_loss.append(t_loss)\n",
    "        validation_loss.append(val_loss)\n",
    "        print(\"Epoch:\",i,\"Training Loss:\",t_loss,\"Validation Loss:\",val_loss)\n",
    "        val_loss = 0\n",
    "    t_loss = 0"
   ]
  },
  {
   "cell_type": "code",
   "execution_count": 11,
   "metadata": {},
   "outputs": [
    {
     "data": {
      "text/plain": [
       "<function matplotlib.pyplot.show(close=None, block=None)>"
      ]
     },
     "execution_count": 11,
     "metadata": {},
     "output_type": "execute_result"
    },
    {
     "data": {
      "image/png": "[encoded data removed]",
      "text/plain": [
       "<Figure size 640x480 with 2 Axes>"
      ]
     },
     "metadata": {},
     "output_type": "display_data"
    }
   ],
   "source": [
    "from matplotlib import pyplot as plt\n",
    "fig, (ax1,ax2) = plt.subplots(2,1, layout='constrained')\n",
    "ax1.plot(training_loss)\n",
    "ax1.set_ylabel('train_loss')\n",
    "ax1.set_xlabel('epochs')\n",
    "ax2.plot(validation_loss)\n",
    "ax2.set_ylabel('val_loss')\n",
    "ax2.set_xlabel('epochs')\n",
    "plt.show"
   ]
  },
  {
   "cell_type": "code",
   "execution_count": 12,
   "metadata": {
    "scrolled": true
   },
   "outputs": [
    {
     "name": "stdout",
     "output_type": "stream",
     "text": [
      "0.9993852384097482\n"
     ]
    }
   ],
   "source": [
    "# eval (you can modify the code below)\n",
    "from sklearn.metrics import r2_score\n",
    "\n",
    "model.eval()\n",
    "res_gs = []\n",
    "res_pred = []\n",
    "\n",
    "with torch.no_grad():\n",
    "    for batch in test_data_loader:\n",
    "        inp, target = batch\n",
    "        out = model(inp)\n",
    "        out = out.squeeze()\n",
    "        res_gs.extend(target.tolist())\n",
    "        res_pred.extend(out.tolist())\n",
    "print(r2_score(res_gs,res_pred))"
   ]
  },
  {
   "cell_type": "code",
   "execution_count": 13,
   "metadata": {},
   "outputs": [],
   "source": [
    "torch.save(model, \"trained_model/model_fixed_len_sequence.pt\")"
   ]
  },
  {
   "cell_type": "code",
   "execution_count": 14,
   "metadata": {},
   "outputs": [],
   "source": [
    "# #sample test\n",
    "# sample_input = \"NCACANNTNCGGAGGCGNA\"\n",
    "# seq = [x for x in dnaseq_to_intseq(sample_input)]\n",
    "# oneh = [to_categorical(x,num_classes=5) for x in seq]\n",
    "# sequence = torch.tensor(oneh, dtype=torch.float)\n",
    "# sequence = sequence.unsqueeze(0)\n",
    "# model.eval()\n",
    "# with torch.no_grad():\n",
    "#     out = model(sequence)\n",
    "#     out = out.squeeze()\n",
    "#     print(out)"
   ]
  },
  {
   "cell_type": "markdown",
   "metadata": {
    "id": "TMrRf_aVDRJm"
   },
   "source": [
    "# Part 2: what if the DNA sequences are not the same length"
   ]
  },
  {
   "cell_type": "code",
   "execution_count": 15,
   "metadata": {},
   "outputs": [],
   "source": [
    "# hint we will need following imports\n",
    "from torch.nn.utils.rnn import pad_sequence, pack_padded_sequence, pad_packed_sequence"
   ]
  },
  {
   "cell_type": "code",
   "execution_count": 16,
   "metadata": {
    "id": "AKvG-MNuXJr9"
   },
   "outputs": [],
   "source": [
    "# DO NOT CHANGE HERE\n",
    "random.seed(13)\n",
    "\n",
    "# Use this for getting x label\n",
    "def rand_sequence_var_len(n_seqs: int, lb: int=16, ub: int=128) -> Sequence[int]:\n",
    "    for i in range(n_seqs):\n",
    "        seq_len = random.randint(lb, ub)\n",
    "        yield [random.randint(1, 5) for _ in range(seq_len)]\n",
    "\n",
    "\n",
    "# Use this for getting y label\n",
    "def count_cpgs(seq: str) -> int:\n",
    "    cgs = 0\n",
    "    for i in range(0, len(seq) - 1):\n",
    "        dimer = seq[i:i+2]\n",
    "        # note that seq is a string, not a list\n",
    "        if dimer == \"CG\":\n",
    "            cgs += 1\n",
    "    return cgs\n",
    "\n",
    "\n",
    "# Alphabet helpers   \n",
    "alphabet = 'NACGT'\n",
    "dna2int = {a: i for a, i in zip(alphabet, range(1, 6))}\n",
    "int2dna = {i: a for a, i in zip(alphabet, range(1, 6))}\n",
    "dna2int.update({\"pad\": 0})\n",
    "int2dna.update({0: \"<pad>\"})\n",
    "\n",
    "intseq_to_dnaseq = partial(map, int2dna.get)\n",
    "dnaseq_to_intseq = partial(map, dna2int.get)"
   ]
  },
  {
   "cell_type": "code",
   "execution_count": 17,
   "metadata": {},
   "outputs": [],
   "source": [
    "# TODO complete the task based on the change\n",
    "def prepare_data(num_samples=100, min_len=16, max_len=128):\n",
    "    # TODO prepared the training and test data\n",
    "    # you need to call rand_sequence and count_cpgs here to create the dataset\n",
    "    #step 1\n",
    "    X_dna_seqs_train = list(rand_sequence_var_len(num_samples, min_len, max_len))\n",
    "    #step 2\n",
    "    temp = [\"\".join(intseq_to_dnaseq(x)) for x in X_dna_seqs_train]\n",
    "    #step3\n",
    "    y_dna_seqs = [count_cpgs(x) for x in temp]\n",
    "    #step4\n",
    "    X_dna_seqs_train = [torch.LongTensor(x) for x in X_dna_seqs_train]\n",
    "    X_dna_seqs_train_padding = pad_sequence(X_dna_seqs_train, batch_first=True, padding_value=dna2int['pad'])\n",
    "    #step5\n",
    "    X_dna_seqs_train_onehot_padding = [to_categorical(x,num_classes=6) for x in X_dna_seqs_train_padding] #create onehot encodings\n",
    "    X_dna_seqs_train_onehot_padding = torch.tensor(X_dna_seqs_train_onehot_padding, dtype=torch.float) \n",
    "    y_dna_seqs = torch.tensor(y_dna_seqs, dtype=torch.float)\n",
    "    \n",
    "    return X_dna_seqs_train_onehot_padding, y_dna_seqs\n",
    "    \n",
    "    \n",
    "min_len, max_len = 64, 128\n",
    "train_x, train_y = prepare_data(2048, min_len, max_len)\n",
    "test_x, test_y = prepare_data(512, min_len, max_len)"
   ]
  },
  {
   "cell_type": "code",
   "execution_count": 18,
   "metadata": {},
   "outputs": [
    {
     "data": {
      "text/plain": [
       "(torch.Size([2048, 128, 6]), torch.Size([2048]))"
      ]
     },
     "execution_count": 18,
     "metadata": {},
     "output_type": "execute_result"
    }
   ],
   "source": [
    "train_x.shape, train_y.shape"
   ]
  },
  {
   "cell_type": "code",
   "execution_count": 19,
   "metadata": {},
   "outputs": [],
   "source": [
    "class MyDataset(torch.utils.data.Dataset):\n",
    "    def __init__(self, lists, labels) -> None:\n",
    "        self.lists = lists\n",
    "        self.labels = labels\n",
    "\n",
    "    def __getitem__(self, index):\n",
    "        return torch.tensor(self.lists[index]), self.labels[index]\n",
    "\n",
    "    def __len__(self):\n",
    "        return len(self.lists)\n",
    "\n",
    "# this will be a collate_fn for dataloader to pad sequence  \n",
    "#found the code from here --> https://www.codefull.org/2018/11/use-pytorchs-dataloader-with-variable-length-sequences-for-lstm-gru/\n",
    "class PadSequence:\n",
    "    def __call__(self, batch):\n",
    "        # Let's assume that each element in \"batch\" is a tuple (data, label).\n",
    "        # Sort the batch in the descending order\n",
    "        sorted_batch = sorted(batch, key=lambda x: x[0].shape[0], reverse=True)\n",
    "        # Get each sequence and pad it\n",
    "        sequences = [x[0] for x in sorted_batch]\n",
    "        sequences_padded = torch.nn.utils.rnn.pad_sequence(sequences, batch_first=True, padding_value=dna2int['pad'])\n",
    "        # Also need to store the length of each sequence\n",
    "        # This is later needed in order to unpad the sequences\n",
    "        sequences_padded = torch.tensor(sequences_padded)\n",
    "        lengths = torch.tensor([len(x) for x in sequences])\n",
    "        # Don't forget to grab the labels of the *sorted* batch\n",
    "        labels = torch.tensor([x[1] for x in sorted_batch])\n",
    "        return sequences_padded, lengths, labels"
   ]
  },
  {
   "cell_type": "code",
   "execution_count": 21,
   "metadata": {},
   "outputs": [],
   "source": [
    "# some config\n",
    "LSTM_HIDDEN = 128\n",
    "LSTM_LAYER = 1\n",
    "batch_size = 32\n",
    "learning_rate = 0.001\n",
    "epoch_num = 300"
   ]
  },
  {
   "cell_type": "code",
   "execution_count": 22,
   "metadata": {},
   "outputs": [],
   "source": [
    "from torch.utils.data import TensorDataset, DataLoader\n",
    "# create data loader\n",
    "train_data_loader = DataLoader(MyDataset(train_x, train_y), batch_size=batch_size, collate_fn=PadSequence(), shuffle=True)\n",
    "test_data_loader = DataLoader(MyDataset(test_x, test_y), batch_size=batch_size, collate_fn=PadSequence(), shuffle=False)"
   ]
  },
  {
   "cell_type": "code",
   "execution_count": 23,
   "metadata": {},
   "outputs": [
    {
     "name": "stdout",
     "output_type": "stream",
     "text": [
      "torch.Size([32, 128, 6])\n",
      "torch.Size([32])\n"
     ]
    },
    {
     "name": "stderr",
     "output_type": "stream",
     "text": [
      "C:\\Users\\susinghrawat\\AppData\\Local\\Temp\\ipykernel_36448\\674878220.py:7: UserWarning: To copy construct from a tensor, it is recommended to use sourceTensor.clone().detach() or sourceTensor.clone().detach().requires_grad_(True), rather than torch.tensor(sourceTensor).\n",
      "  return torch.tensor(self.lists[index]), self.labels[index]\n",
      "C:\\Users\\susinghrawat\\AppData\\Local\\Temp\\ipykernel_36448\\674878220.py:26: UserWarning: To copy construct from a tensor, it is recommended to use sourceTensor.clone().detach() or sourceTensor.clone().detach().requires_grad_(True), rather than torch.tensor(sourceTensor).\n",
      "  sequences_padded = torch.tensor(sequences_padded)\n"
     ]
    }
   ],
   "source": [
    "#check shapes of input\n",
    "for i in train_data_loader:\n",
    "    print(i[0].shape)\n",
    "    print(i[1].shape)\n",
    "    break"
   ]
  },
  {
   "cell_type": "code",
   "execution_count": 24,
   "metadata": {},
   "outputs": [],
   "source": [
    "# Model\n",
    "class CpGPredictor(torch.nn.Module):\n",
    "    ''' Simple model that uses a LSTM to count the number of CpGs in a sequence '''\n",
    "    def __init__(self):\n",
    "        super(CpGPredictor, self).__init__()\n",
    "        # TODO complete model, you are free to add whatever layers you need here\n",
    "        # We do need a lstm and a classifier layer here but you are free to implement them in your way\n",
    "        self.lstm = torch.nn.LSTM(6, LSTM_HIDDEN, LSTM_LAYER, batch_first=True)\n",
    "        self.classifier = torch.nn.Linear(LSTM_HIDDEN, 1)\n",
    "\n",
    "    def forward(self, x, x_length):\n",
    "        ''' ChatGPT and google helped a lot in this one phew \n",
    "        (https://chat.openai.com/share/5aac1c10-60a4-4afb-ad6f-882e185969a2)\n",
    "        '''\n",
    "        # TODO complete forward function\n",
    "        x_pack = pack_padded_sequence(x,x_length, batch_first=True, enforce_sorted=True)\n",
    "        x_padded, _ = pad_packed_sequence(x_pack, batch_first=True)\n",
    "        output, _ = self.lstm(x_padded)\n",
    "        output = output[:, -1, :] #choosing last timestep from each batch\n",
    "        logits = self.classifier(output)\n",
    "        return logits"
   ]
  },
  {
   "cell_type": "code",
   "execution_count": 25,
   "metadata": {},
   "outputs": [],
   "source": [
    "# init model / loss function / optimizer etc.\n",
    "model = CpGPredictor()\n",
    "loss_fn = torch.nn.MSELoss()\n",
    "optimizer = torch.optim.Adam(model.parameters(), lr=learning_rate)"
   ]
  },
  {
   "cell_type": "code",
   "execution_count": 26,
   "metadata": {},
   "outputs": [
    {
     "name": "stderr",
     "output_type": "stream",
     "text": [
      "C:\\Users\\susinghrawat\\AppData\\Local\\Temp\\ipykernel_36448\\674878220.py:7: UserWarning: To copy construct from a tensor, it is recommended to use sourceTensor.clone().detach() or sourceTensor.clone().detach().requires_grad_(True), rather than torch.tensor(sourceTensor).\n",
      "  return torch.tensor(self.lists[index]), self.labels[index]\n",
      "C:\\Users\\susinghrawat\\AppData\\Local\\Temp\\ipykernel_36448\\674878220.py:26: UserWarning: To copy construct from a tensor, it is recommended to use sourceTensor.clone().detach() or sourceTensor.clone().detach().requires_grad_(True), rather than torch.tensor(sourceTensor).\n",
      "  sequences_padded = torch.tensor(sequences_padded)\n"
     ]
    },
    {
     "name": "stdout",
     "output_type": "stream",
     "text": [
      "Epoch: 0 Training Loss: 416.2323350906372 Validation Loss: 3.8909389972686768\n",
      "Epoch: 10 Training Loss: 234.6464604139328 Validation Loss: 1.8835800886154175\n",
      "Epoch: 20 Training Loss: 206.66390240192413 Validation Loss: 2.9316611289978027\n",
      "Epoch: 30 Training Loss: 191.4844170808792 Validation Loss: 2.812187433242798\n",
      "Epoch: 40 Training Loss: 15.919064499437809 Validation Loss: 0.1751340925693512\n",
      "Epoch: 50 Training Loss: 2.7332090493291616 Validation Loss: 0.03850292041897774\n",
      "Epoch: 60 Training Loss: 2.150206350721419 Validation Loss: 0.007447096984833479\n",
      "Epoch: 70 Training Loss: 0.8967099077999592 Validation Loss: 0.009058049879968166\n",
      "Epoch: 80 Training Loss: 1.328771028202027 Validation Loss: 0.018567301332950592\n",
      "Epoch: 90 Training Loss: 1.001737529411912 Validation Loss: 0.03285231441259384\n",
      "Epoch: 100 Training Loss: 1.2525408025830984 Validation Loss: 0.008755188435316086\n",
      "Epoch: 110 Training Loss: 1.0542867635376751 Validation Loss: 0.012112352065742016\n",
      "Epoch: 120 Training Loss: 0.34295085188932717 Validation Loss: 0.006668528541922569\n",
      "Epoch: 130 Training Loss: 0.427964354516007 Validation Loss: 0.007214022800326347\n",
      "Epoch: 140 Training Loss: 0.2784820814849809 Validation Loss: 0.002301677130162716\n",
      "Epoch: 150 Training Loss: 0.2599013119470328 Validation Loss: 0.00499682268127799\n",
      "Epoch: 160 Training Loss: 0.8364005216863006 Validation Loss: 0.004288367927074432\n",
      "Epoch: 170 Training Loss: 0.1917195882415399 Validation Loss: 0.0021603875793516636\n",
      "Epoch: 180 Training Loss: 0.8764848137507215 Validation Loss: 0.006655265111476183\n",
      "Epoch: 190 Training Loss: 0.22979922412196174 Validation Loss: 0.0035095501225441694\n",
      "Epoch: 200 Training Loss: 0.12133619468659163 Validation Loss: 0.001173539785668254\n",
      "Epoch: 210 Training Loss: 0.1121081109449733 Validation Loss: 0.0018155932193621993\n",
      "Epoch: 220 Training Loss: 0.23199807212222368 Validation Loss: 0.0035035472828894854\n",
      "Epoch: 230 Training Loss: 0.07869396884052549 Validation Loss: 0.0003724831622093916\n",
      "Epoch: 240 Training Loss: 0.3004704450140707 Validation Loss: 0.00351079273968935\n",
      "Epoch: 250 Training Loss: 0.038785715063568205 Validation Loss: 0.0004406892112456262\n",
      "Epoch: 260 Training Loss: 0.08509467565454543 Validation Loss: 0.00038537936052307487\n",
      "Epoch: 270 Training Loss: 0.09947838756488636 Validation Loss: 0.0026145491283386946\n",
      "Epoch: 280 Training Loss: 0.2164325324993115 Validation Loss: 0.0011533311335369945\n",
      "Epoch: 290 Training Loss: 0.1351853671076242 Validation Loss: 0.009850372560322285\n"
     ]
    }
   ],
   "source": [
    "# training (you can modify the code below)\n",
    "t_loss = 0\n",
    "val_loss = 0\n",
    "training_loss = []\n",
    "validation_loss = []\n",
    "\n",
    "model.train()\n",
    "model.zero_grad()\n",
    "for i in range(epoch_num):\n",
    "    for batch in train_data_loader:\n",
    "        inp, length, target = batch\n",
    "        out = model(inp,length)\n",
    "        out = out.squeeze()\n",
    "        optimizer.zero_grad()\n",
    "        loss = loss_fn(out, target)\n",
    "        loss.backward()\n",
    "        optimizer.step()\n",
    "        t_loss += loss.item() \n",
    "    \n",
    "    if i%10==0:\n",
    "        #compute validation error\n",
    "        model.eval()\n",
    "        with torch.no_grad():\n",
    "            out = model(inp, length)\n",
    "            out = out.squeeze()\n",
    "            loss = loss_fn(out, target)\n",
    "            val_loss+=loss.item()\n",
    "    \n",
    "        training_loss.append(t_loss)\n",
    "        validation_loss.append(val_loss)\n",
    "        print(\"Epoch:\",i,\"Training Loss:\",t_loss,\"Validation Loss:\",val_loss)\n",
    "        val_loss = 0\n",
    "    t_loss = 0"
   ]
  },
  {
   "cell_type": "code",
   "execution_count": 27,
   "metadata": {},
   "outputs": [
    {
     "name": "stdout",
     "output_type": "stream",
     "text": [
      "0.9995178676873524\n"
     ]
    },
    {
     "name": "stderr",
     "output_type": "stream",
     "text": [
      "C:\\Users\\susinghrawat\\AppData\\Local\\Temp\\ipykernel_36448\\674878220.py:7: UserWarning: To copy construct from a tensor, it is recommended to use sourceTensor.clone().detach() or sourceTensor.clone().detach().requires_grad_(True), rather than torch.tensor(sourceTensor).\n",
      "  return torch.tensor(self.lists[index]), self.labels[index]\n",
      "C:\\Users\\susinghrawat\\AppData\\Local\\Temp\\ipykernel_36448\\674878220.py:26: UserWarning: To copy construct from a tensor, it is recommended to use sourceTensor.clone().detach() or sourceTensor.clone().detach().requires_grad_(True), rather than torch.tensor(sourceTensor).\n",
      "  sequences_padded = torch.tensor(sequences_padded)\n"
     ]
    }
   ],
   "source": [
    "# eval (you can modify the code below)\n",
    "from sklearn.metrics import r2_score\n",
    "\n",
    "model.eval()\n",
    "res_gs = []\n",
    "res_pred = []\n",
    "\n",
    "with torch.no_grad():\n",
    "    for batch in test_data_loader:\n",
    "        inp, length, target = batch\n",
    "        out = model(inp, length)\n",
    "        out = out.squeeze()\n",
    "        res_gs.extend(target.tolist())\n",
    "        res_pred.extend(out.tolist())\n",
    "print(r2_score(res_gs,res_pred))"
   ]
  },
  {
   "cell_type": "code",
   "execution_count": 28,
   "metadata": {},
   "outputs": [],
   "source": [
    "torch.save(model, \"trained_model/model_variable_len_sequence.pt\")"
   ]
  },
  {
   "cell_type": "markdown",
   "metadata": {},
   "source": [
    "## Model inference pipeline"
   ]
  },
  {
   "cell_type": "code",
   "execution_count": 38,
   "metadata": {},
   "outputs": [],
   "source": [
    "def convert_seq_to_desired_padding(sequence, desired_length=128):\n",
    "    pad_right = desired_length - len(sequence)\n",
    "    sequence.extend([dna2int[\"pad\"]]*pad_right)\n",
    "    return sequence\n",
    "\n",
    "def inference_for_single_sequence(sequence, maxlen):\n",
    "    X_dna_seqs = sequence\n",
    "    temp = [\"\".join(intseq_to_dnaseq(x)) for x in X_dna_seqs]\n",
    "    y_dna_seqs = [count_cpgs(x) for x in temp]\n",
    "    X_dna_seqs_padding = [convert_seq_to_desired_padding(x, desired_length=maxlen) for x in X_dna_seqs]\n",
    "    X_dna_seqs_onehot_padding = [to_categorical(x,num_classes=6) for x in X_dna_seqs_padding] \n",
    "    X_dna_seqs_onehot_padding = torch.tensor(X_dna_seqs_onehot_padding, dtype=torch.float) \n",
    "    y_dna_seqs = torch.tensor(y_dna_seqs, dtype=torch.float)\n",
    "    \n",
    "    return X_dna_seqs_onehot_padding, y_dna_seqs\n",
    "\n",
    "\n",
    "def evaluation_for_single_sequence(dna_seq: str):\n",
    "    seq = [[x for x in dnaseq_to_intseq(dna_seq)]]\n",
    "    sample_x, sample_y = inference_for_single_sequence(seq, 128)\n",
    "    dl = DataLoader(MyDataset(sample_x,sample_y), batch_size=1, collate_fn=PadSequence())\n",
    "    \n",
    "    model.eval()\n",
    "    res_gs = []\n",
    "    res_pred = []\n",
    "\n",
    "    with torch.no_grad():\n",
    "        for batch in dl:\n",
    "            inp, length, target = batch\n",
    "            out = model(inp, length)\n",
    "            out = out.squeeze()\n",
    "            return out.item()"
   ]
  },
  {
   "cell_type": "code",
   "execution_count": 39,
   "metadata": {},
   "outputs": [
    {
     "name": "stderr",
     "output_type": "stream",
     "text": [
      "C:\\Users\\susinghrawat\\AppData\\Local\\Temp\\ipykernel_36448\\674878220.py:7: UserWarning: To copy construct from a tensor, it is recommended to use sourceTensor.clone().detach() or sourceTensor.clone().detach().requires_grad_(True), rather than torch.tensor(sourceTensor).\n",
      "  return torch.tensor(self.lists[index]), self.labels[index]\n",
      "C:\\Users\\susinghrawat\\AppData\\Local\\Temp\\ipykernel_36448\\674878220.py:26: UserWarning: To copy construct from a tensor, it is recommended to use sourceTensor.clone().detach() or sourceTensor.clone().detach().requires_grad_(True), rather than torch.tensor(sourceTensor).\n",
      "  sequences_padded = torch.tensor(sequences_padded)\n"
     ]
    },
    {
     "data": {
      "text/plain": [
       "1.0529332160949707"
      ]
     },
     "execution_count": 39,
     "metadata": {},
     "output_type": "execute_result"
    }
   ],
   "source": [
    "evaluation_for_single_sequence(dna_seq= \"NCACANNTNCGGAGGCA\")"
   ]
  },
  {
   "cell_type": "code",
   "execution_count": null,
   "metadata": {},
   "outputs": [],
   "source": []
  }
 ],
 "metadata": {
  "colab": {
   "collapsed_sections": [],
   "name": "Xi Yangs Copy of broken-nn-template.ipynb",
   "provenance": [
    {
     "file_id": "13GlbI_pdKNES8I718iwl1KNnMZ73iOOn",
     "timestamp": 1651680757732
    }
   ]
  },
  "kernelspec": {
   "display_name": "Python 3 (ipykernel)",
   "language": "python",
   "name": "python3"
  },
  "language_info": {
   "codemirror_mode": {
    "name": "ipython",
    "version": 3
   },
   "file_extension": ".py",
   "mimetype": "text/x-python",
   "name": "python",
   "nbconvert_exporter": "python",
   "pygments_lexer": "ipython3",
   "version": "3.9.12"
  }
 },
 "nbformat": 4,
 "nbformat_minor": 1
}
